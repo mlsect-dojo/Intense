{
  "nbformat": 4,
  "nbformat_minor": 0,
  "metadata": {
    "colab": {
      "name": "ML1.ipynb",
      "provenance": [],
      "collapsed_sections": []
    },
    "kernelspec": {
      "display_name": "Python 3",
      "name": "python3"
    }
  },
  "cells": [
    {
      "cell_type": "code",
      "metadata": {
        "colab": {
          "base_uri": "https://localhost:8080/"
        },
        "id": "u7N161EFzBpW",
        "outputId": "3bdbc12e-1ab1-419d-c20f-7c77d82e2eb8"
      },
      "source": [
        "from google.colab import drive\n",
        "drive.mount('/content/drive')"
      ],
      "execution_count": 4,
      "outputs": [
        {
          "output_type": "stream",
          "text": [
            "Mounted at /content/drive\n"
          ],
          "name": "stdout"
        }
      ]
    },
    {
      "cell_type": "code",
      "metadata": {
        "id": "AH4NQcmxktaD",
        "colab": {
          "base_uri": "https://localhost:8080/",
          "height": 784
        },
        "outputId": "9198464b-fe60-4a25-f3cc-008d2d7fed80"
      },
      "source": [
        "!pip install IMDbPY\n",
        "!pip install spotipy\n",
        "!pip install -U git+https://github.com/aboSamoor/polyglot.git@master\n",
        "import pandas as pd\n",
        "import html\n",
        "import imdb\n",
        "import nltk\n",
        "from nltk import ne_chunk, pos_tag, word_tokenize\n",
        "from nltk.tree import Tree\n",
        "from imdb import IMDb\n",
        "import numpy as np\n",
        "import spotipy\n",
        "from spotipy.oauth2 import SpotifyClientCredentials\n",
        "import random\n",
        "from random import randint\n",
        "import requests\n",
        "from polyglot.text import Text\n",
        "\n",
        "client_id = '330e84ce3b4e4cceacb8b932b1c11bb6'\n",
        "client_secret = '9b51dbb9f20e48a1966359108fe47848'\n",
        "client_credentials_manager = SpotifyClientCredentials(client_id=client_id, client_secret=client_secret)\n",
        "sp = spotipy.Spotify(client_credentials_manager=client_credentials_manager)\n",
        "data = pd.read_pickle('/content/drive/My Drive/mlschool/videos.p')\n",
        "data.head()"
      ],
      "execution_count": 5,
      "outputs": [
        {
          "output_type": "stream",
          "text": [
            "Requirement already satisfied: IMDbPY in /usr/local/lib/python3.6/dist-packages (2020.9.25)\n",
            "Requirement already satisfied: lxml in /usr/local/lib/python3.6/dist-packages (from IMDbPY) (4.2.6)\n",
            "Requirement already satisfied: SQLAlchemy in /usr/local/lib/python3.6/dist-packages (from IMDbPY) (1.3.20)\n",
            "Requirement already satisfied: spotipy in /usr/local/lib/python3.6/dist-packages (2.16.1)\n",
            "Requirement already satisfied: six>=1.10.0 in /usr/local/lib/python3.6/dist-packages (from spotipy) (1.15.0)\n",
            "Requirement already satisfied: requests>=2.20.0 in /usr/local/lib/python3.6/dist-packages (from spotipy) (2.23.0)\n",
            "Requirement already satisfied: urllib3!=1.25.0,!=1.25.1,<1.26,>=1.21.1 in /usr/local/lib/python3.6/dist-packages (from requests>=2.20.0->spotipy) (1.24.3)\n",
            "Requirement already satisfied: certifi>=2017.4.17 in /usr/local/lib/python3.6/dist-packages (from requests>=2.20.0->spotipy) (2020.11.8)\n",
            "Requirement already satisfied: idna<3,>=2.5 in /usr/local/lib/python3.6/dist-packages (from requests>=2.20.0->spotipy) (2.10)\n",
            "Requirement already satisfied: chardet<4,>=3.0.2 in /usr/local/lib/python3.6/dist-packages (from requests>=2.20.0->spotipy) (3.0.4)\n",
            "Collecting git+https://github.com/aboSamoor/polyglot.git@master\n",
            "  Cloning https://github.com/aboSamoor/polyglot.git (to revision master) to /tmp/pip-req-build-9oe2wyvq\n",
            "  Running command git clone -q https://github.com/aboSamoor/polyglot.git /tmp/pip-req-build-9oe2wyvq\n",
            "Requirement already satisfied, skipping upgrade: morfessor>=2.0.2a1 in /usr/local/lib/python3.6/dist-packages (from polyglot==16.7.4) (2.0.6)\n",
            "Requirement already satisfied, skipping upgrade: six>=1.7.3 in /usr/local/lib/python3.6/dist-packages (from polyglot==16.7.4) (1.15.0)\n",
            "Requirement already satisfied, skipping upgrade: PyICU>=1.8 in /usr/local/lib/python3.6/dist-packages (from polyglot==16.7.4) (2.6)\n",
            "Requirement already satisfied, skipping upgrade: pycld2>=0.3 in /usr/local/lib/python3.6/dist-packages (from polyglot==16.7.4) (0.41)\n",
            "Requirement already satisfied, skipping upgrade: futures>=2.1.6 in /usr/local/lib/python3.6/dist-packages (from polyglot==16.7.4) (3.1.1)\n",
            "Requirement already satisfied, skipping upgrade: wheel>=0.23.0 in /usr/local/lib/python3.6/dist-packages (from polyglot==16.7.4) (0.35.1)\n",
            "Requirement already satisfied, skipping upgrade: numpy>=1.6.1 in /usr/local/lib/python3.6/dist-packages (from polyglot==16.7.4) (1.18.5)\n",
            "Building wheels for collected packages: polyglot\n",
            "  Building wheel for polyglot (setup.py) ... \u001b[?25l\u001b[?25hdone\n",
            "  Created wheel for polyglot: filename=polyglot-16.7.4-py2.py3-none-any.whl size=70644 sha256=ade57300116cd343b8050fe9f3191986df69e9d9b8229686258d1a53c950ea40\n",
            "  Stored in directory: /tmp/pip-ephem-wheel-cache-3s1985d3/wheels/42/d9/73/345c7ae8554299ff8b31635d64eb8455fd591385fa734cdbef\n",
            "Successfully built polyglot\n",
            "Installing collected packages: polyglot\n",
            "  Found existing installation: polyglot 16.7.4\n",
            "    Uninstalling polyglot-16.7.4:\n",
            "      Successfully uninstalled polyglot-16.7.4\n",
            "Successfully installed polyglot-16.7.4\n"
          ],
          "name": "stdout"
        },
        {
          "output_type": "display_data",
          "data": {
            "application/vnd.colab-display-data+json": {
              "pip_warning": {
                "packages": [
                  "polyglot"
                ]
              }
            }
          },
          "metadata": {
            "tags": []
          }
        },
        {
          "output_type": "execute_result",
          "data": {
            "text/html": [
              "<div>\n",
              "<style scoped>\n",
              "    .dataframe tbody tr th:only-of-type {\n",
              "        vertical-align: middle;\n",
              "    }\n",
              "\n",
              "    .dataframe tbody tr th {\n",
              "        vertical-align: top;\n",
              "    }\n",
              "\n",
              "    .dataframe thead th {\n",
              "        text-align: right;\n",
              "    }\n",
              "</style>\n",
              "<table border=\"1\" class=\"dataframe\">\n",
              "  <thead>\n",
              "    <tr style=\"text-align: right;\">\n",
              "      <th></th>\n",
              "      <th>fromId</th>\n",
              "      <th>vid</th>\n",
              "    </tr>\n",
              "  </thead>\n",
              "  <tbody>\n",
              "    <tr>\n",
              "      <th>0</th>\n",
              "      <td>100001643</td>\n",
              "      <td>[Zivert - Beverly Hills | mood «Красотка», Sta...</td>\n",
              "    </tr>\n",
              "    <tr>\n",
              "      <th>1</th>\n",
              "      <td>1000067</td>\n",
              "      <td>[Игорь Растеряев. Плясовая., Спорт, спорт, спо...</td>\n",
              "    </tr>\n",
              "    <tr>\n",
              "      <th>2</th>\n",
              "      <td>1000117</td>\n",
              "      <td>[Харламов и Батрутдинов&amp;quot;На газовых перего...</td>\n",
              "    </tr>\n",
              "    <tr>\n",
              "      <th>3</th>\n",
              "      <td>100012291</td>\n",
              "      <td>[Сжигаем жир, Вкусный и сытный завтрак, No nam...</td>\n",
              "    </tr>\n",
              "    <tr>\n",
              "      <th>4</th>\n",
              "      <td>10001414</td>\n",
              "      <td>[Avicii - Wake Me Up (Official Video), В джазе...</td>\n",
              "    </tr>\n",
              "  </tbody>\n",
              "</table>\n",
              "</div>"
            ],
            "text/plain": [
              "      fromId                                                vid\n",
              "0  100001643  [Zivert - Beverly Hills | mood «Красотка», Sta...\n",
              "1    1000067  [Игорь Растеряев. Плясовая., Спорт, спорт, спо...\n",
              "2    1000117  [Харламов и Батрутдинов&quot;На газовых перего...\n",
              "3  100012291  [Сжигаем жир, Вкусный и сытный завтрак, No nam...\n",
              "4   10001414  [Avicii - Wake Me Up (Official Video), В джазе..."
            ]
          },
          "metadata": {
            "tags": []
          },
          "execution_count": 5
        }
      ]
    },
    {
      "cell_type": "code",
      "metadata": {
        "colab": {
          "base_uri": "https://localhost:8080/",
          "height": 47
        },
        "id": "bmaX1o-Fls7E",
        "outputId": "5993702c-bfcf-47d3-f516-6fb7b6fef753"
      },
      "source": [
        "data_new = pd.DataFrame(columns=['music', 'films', 'other', 'genres_of_music', 'genres_of_films'])\n",
        "data_new.head()"
      ],
      "execution_count": 3,
      "outputs": [
        {
          "output_type": "execute_result",
          "data": {
            "text/html": [
              "<div>\n",
              "<style scoped>\n",
              "    .dataframe tbody tr th:only-of-type {\n",
              "        vertical-align: middle;\n",
              "    }\n",
              "\n",
              "    .dataframe tbody tr th {\n",
              "        vertical-align: top;\n",
              "    }\n",
              "\n",
              "    .dataframe thead th {\n",
              "        text-align: right;\n",
              "    }\n",
              "</style>\n",
              "<table border=\"1\" class=\"dataframe\">\n",
              "  <thead>\n",
              "    <tr style=\"text-align: right;\">\n",
              "      <th></th>\n",
              "      <th>music</th>\n",
              "      <th>films</th>\n",
              "      <th>other</th>\n",
              "      <th>genres_of_music</th>\n",
              "      <th>genres_of_films</th>\n",
              "    </tr>\n",
              "  </thead>\n",
              "  <tbody>\n",
              "  </tbody>\n",
              "</table>\n",
              "</div>"
            ],
            "text/plain": [
              "Empty DataFrame\n",
              "Columns: [music, films, other, genres_of_music, genres_of_films]\n",
              "Index: []"
            ]
          },
          "metadata": {
            "tags": []
          },
          "execution_count": 3
        }
      ]
    },
    {
      "cell_type": "code",
      "metadata": {
        "colab": {
          "base_uri": "https://localhost:8080/",
          "height": 195
        },
        "id": "EozKcYi6qcnP",
        "outputId": "539a9e3b-55df-447e-81c7-1473c9835ad7"
      },
      "source": [
        "data_of_labels = pd.read_csv('/content/drive/My Drive/mlschool/music_films_labels.csv')\n",
        "data_of_labels.head()"
      ],
      "execution_count": 13,
      "outputs": [
        {
          "output_type": "execute_result",
          "data": {
            "text/html": [
              "<div>\n",
              "<style scoped>\n",
              "    .dataframe tbody tr th:only-of-type {\n",
              "        vertical-align: middle;\n",
              "    }\n",
              "\n",
              "    .dataframe tbody tr th {\n",
              "        vertical-align: top;\n",
              "    }\n",
              "\n",
              "    .dataframe thead th {\n",
              "        text-align: right;\n",
              "    }\n",
              "</style>\n",
              "<table border=\"1\" class=\"dataframe\">\n",
              "  <thead>\n",
              "    <tr style=\"text-align: right;\">\n",
              "      <th></th>\n",
              "      <th>fromId</th>\n",
              "      <th>Фильм-1,Музыка-2</th>\n",
              "      <th>vid</th>\n",
              "    </tr>\n",
              "  </thead>\n",
              "  <tbody>\n",
              "    <tr>\n",
              "      <th>0</th>\n",
              "      <td>100402039</td>\n",
              "      <td>NaN</td>\n",
              "      <td>Приколы студентов</td>\n",
              "    </tr>\n",
              "    <tr>\n",
              "      <th>1</th>\n",
              "      <td>100402039</td>\n",
              "      <td>NaN</td>\n",
              "      <td>приколы с зубной пастой</td>\n",
              "    </tr>\n",
              "    <tr>\n",
              "      <th>2</th>\n",
              "      <td>100402039</td>\n",
              "      <td>NaN</td>\n",
              "      <td>Прикол, всё любят делать за деньги&amp;#33;=)</td>\n",
              "    </tr>\n",
              "    <tr>\n",
              "      <th>3</th>\n",
              "      <td>100402039</td>\n",
              "      <td>NaN</td>\n",
              "      <td>Кот матерится)</td>\n",
              "    </tr>\n",
              "    <tr>\n",
              "      <th>4</th>\n",
              "      <td>100402039</td>\n",
              "      <td>NaN</td>\n",
              "      <td>Кот пердун</td>\n",
              "    </tr>\n",
              "  </tbody>\n",
              "</table>\n",
              "</div>"
            ],
            "text/plain": [
              "      fromId  Фильм-1,Музыка-2                                        vid\n",
              "0  100402039               NaN                          Приколы студентов\n",
              "1  100402039               NaN                    приколы с зубной пастой\n",
              "2  100402039               NaN  Прикол, всё любят делать за деньги&#33;=)\n",
              "3  100402039               NaN                             Кот матерится)\n",
              "4  100402039               NaN                                 Кот пердун"
            ]
          },
          "metadata": {
            "tags": []
          },
          "execution_count": 13
        }
      ]
    },
    {
      "cell_type": "code",
      "metadata": {
        "id": "djJhXp_RfNcq"
      },
      "source": [
        "def get_continuous_chunks(text):\n",
        "     chunked = ne_chunk(pos_tag(word_tokenize(text)))\n",
        "     continuous_chunk = []\n",
        "     current_chunk = []\n",
        "     for i in chunked:\n",
        "             if type(i) == Tree:\n",
        "                     current_chunk.append(\" \".join([token for token, pos in i.leaves()]))\n",
        "             elif current_chunk:\n",
        "                     named_entity = \" \".join(current_chunk)\n",
        "                     if named_entity not in continuous_chunk:\n",
        "                             continuous_chunk.append(named_entity)\n",
        "                             current_chunk = []\n",
        "             else:\n",
        "                     continue\n",
        "     return continuous_chunk\n",
        "\n",
        "def is_it_cinema(name):\n",
        "    movies = ia.search_movie(name)\n",
        "    if len(movies) > 0:\n",
        "      movie = movies[0]\n",
        "      ia.update(movie, info=['main'])\n",
        "      try:\n",
        "        return 1, name, movie['genres']\n",
        "      except KeyError:\n",
        "        return 1, name, None\n",
        "    return 0, None, None\n",
        "\n",
        "\n",
        "def is_it_music(name):\n",
        "    try:\n",
        "      result = sp.search(name)\n",
        "      if len(result['tracks']['items']) > 0:\n",
        "        track = result['tracks']['items'][0]\n",
        "        if track != None:\n",
        "          artist = sp.artist(track[\"artists\"][0][\"external_urls\"][\"spotify\"])\n",
        "          return 2, name, artist[\"genres\"]\n",
        "        else:\n",
        "          return 2, name, None\n",
        "      else:\n",
        "        return 0, None, None\n",
        "    except requests.ReadTimeout:\n",
        "      return 0, None, None"
      ],
      "execution_count": null,
      "outputs": []
    },
    {
      "cell_type": "code",
      "metadata": {
        "id": "UYgL0_SR34Xp"
      },
      "source": [
        "ia = IMDb()\n",
        "for i in range(1, len(data)):\n",
        "    films = []\n",
        "    music = []\n",
        "    other = []\n",
        "    genres_of_music = []\n",
        "    genres_of_films = []\n",
        "    if len(data['vid'][i]) > 20:\n",
        "      count = 20\n",
        "    else:\n",
        "      count = len(data['vid'][i])\n",
        "    for j in range(count):\n",
        "      number = randint(0, len(data['vid'][i]) - 1)\n",
        "      line = data['vid'][i][number]\n",
        "      line = html.unescape(line)\n",
        "      names = get_continuous_chunks(line)\n",
        "      k = -1\n",
        "      if names != None:\n",
        "        while (k + 1< len(names)):\n",
        "          k += 1\n",
        "          flag, name_films, genres_films = is_it_cinema(names[k])\n",
        "          if flag == 1:\n",
        "            films.append(name_films)\n",
        "            genres_of_films.append(genres_films)\n",
        "            break\n",
        "          else:\n",
        "            flag, name_music, genres_music = is_it_music(names[k])\n",
        "            if flag == 2:\n",
        "              music.append(name_music)\n",
        "              genres_of_music.append(genres_music)\n",
        "              break\n",
        "            else:\n",
        "              other.append(line)\n",
        "\n",
        "    genres_of_music = [i for j in genres_of_music for i in j]\n",
        "\n",
        "    genres_of_films = [i for j in genres_of_films for i in j]\n",
        "\n",
        "    data_new.loc[i] = [music, films, other, genres_of_music, genres_of_films]\n",
        "\n",
        "\n",
        "\n"
      ],
      "execution_count": null,
      "outputs": []
    }
  ]
}